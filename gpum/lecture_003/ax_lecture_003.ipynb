{
 "cells": [
  {
   "cell_type": "markdown",
   "metadata": {},
   "source": [
    "# L_003: Getting Started With CUDA for Python Programmers"
   ]
  },
  {
   "cell_type": "markdown",
   "metadata": {},
   "source": [
    "## At a glance"
   ]
  },
  {
   "cell_type": "markdown",
   "metadata": {},
   "source": [
    "Key Terms:\n",
    "\n",
    "1) From PyTorch to CUDA.\n",
    "     - Course recommended for a deep dive into PyTorch: [www.course.fast.ai](www.course.fast.ai)\n",
    "2) Hands-on exercises.\n",
    "\n",
    "---\n",
    "\n",
    "   - 1) From PyTorch to CUDA - Overcoming the steep learning curve of CUDA programming. A few tips to demystify the intricacies of parallel programming using CUDA.\n",
    "   - 2) Hands-on exercises from Chapter 2 of Programming Massively Parallel Processors."
   ]
  }
 ],
 "metadata": {
  "kernelspec": {
   "display_name": "tryouts",
   "language": "python",
   "name": "python3"
  },
  "language_info": {
   "codemirror_mode": {
    "name": "ipython",
    "version": 3
   },
   "file_extension": ".py",
   "mimetype": "text/x-python",
   "name": "python",
   "nbconvert_exporter": "python",
   "pygments_lexer": "ipython3",
   "version": "3.10.16"
  }
 },
 "nbformat": 4,
 "nbformat_minor": 2
}
